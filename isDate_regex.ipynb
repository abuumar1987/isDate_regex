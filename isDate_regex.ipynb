{
 "cells": [
  {
   "cell_type": "code",
   "execution_count": 24,
   "id": "9f500f64-beca-4f04-87d4-ee5441a3997c",
   "metadata": {
    "tags": []
   },
   "outputs": [
    {
     "name": "stdin",
     "output_type": "stream",
     "text": [
      "date =  23.04.2023\n"
     ]
    },
    {
     "name": "stdout",
     "output_type": "stream",
     "text": [
      "The date is available in the calendar\n"
     ]
    }
   ],
   "source": [
    "import re\n",
    "\n",
    "pattern = r\"{0}[-/. ]{1}[-/. ]{2}\"\n",
    "\n",
    "year = '(19|20\\d+)' \n",
    "leap_years = \"|\".join(str(i) for i in range(1904,2096,4))\n",
    "\n",
    "day31 = pattern.format(\"[0-3][0-9]\",\"01|03|05|07|08|10|12\",year)\n",
    "day30 = pattern.format(\"[0-3][0-9]\",\"04|06|09|11\",year)\n",
    "pattern.format(\"29\",\"02\",leap_years)\n",
    "feb_28 = pattern.format(\"[0-2][0-8]\",\"02\",year)\n",
    "\n",
    "regex = \"|\".join(str(i) for i in (day30,day31,feb_28,feb_29))\n",
    "\n",
    "isDate = re.compile(regex)\n",
    "\n",
    "if isDate.match(input(\"date = \")):\n",
    "    print(\"The date is available in the calendar\")\n",
    "else:\n",
    "    print(\"The date is not available in the calendar\")"
   ]
  },
  {
   "cell_type": "code",
   "execution_count": 25,
   "id": "d0c10c48-dd1f-4959-be70-ef4b0b980633",
   "metadata": {
    "tags": []
   },
   "outputs": [
    {
     "data": {
      "text/plain": [
       "'[0-3][0-9][-/. ]04|06|09|11[-/. ](19|20\\\\d+)|[0-3][0-9][-/. ]01|03|05|07|08|10|12[-/. ](19|20\\\\d+)|[0-2][0-8][-/. ]02[-/. ](19|20\\\\d+)|(29)-(02)-1904|1908|1912|1916|1920|1924|1928|1932|1936|1940|1944|1948|1952|1956|1960|1964|1968|1972|1976|1980|1984|1988|1992|1996|2000|2004|2008|2012|2016|2020|2024|2028|2032|2036|2040|2044|2048|2052|2056|2060|2064|2068|2072|2076|2080|2084|2088|2092'"
      ]
     },
     "execution_count": 25,
     "metadata": {},
     "output_type": "execute_result"
    }
   ],
   "source": [
    "regex"
   ]
  },
  {
   "cell_type": "code",
   "execution_count": null,
   "id": "e6f3ca5a-57a1-497f-bbcd-ed854cd1e655",
   "metadata": {},
   "outputs": [],
   "source": []
  }
 ],
 "metadata": {
  "kernelspec": {
   "display_name": "Python 3 (ipykernel)",
   "language": "python",
   "name": "python3"
  },
  "language_info": {
   "codemirror_mode": {
    "name": "ipython",
    "version": 3
   },
   "file_extension": ".py",
   "mimetype": "text/x-python",
   "name": "python",
   "nbconvert_exporter": "python",
   "pygments_lexer": "ipython3",
   "version": "3.11.1"
  }
 },
 "nbformat": 4,
 "nbformat_minor": 5
}
